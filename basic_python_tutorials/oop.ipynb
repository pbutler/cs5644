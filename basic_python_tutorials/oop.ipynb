{
 "cells": [
  {
   "cell_type": "markdown",
   "metadata": {},
   "source": [
    "# Object Oriented Programming and File Handling\n",
    "\n",
    "\n",
    "## OOP\n",
    "\n",
    "By convention the first variable in any class member function is called self and acts the same as a `this` variable in Java."
   ]
  },
  {
   "cell_type": "code",
   "execution_count": 1,
   "metadata": {},
   "outputs": [],
   "source": [
    "class Foo(object):\n",
    "    \"\"\"\n",
    "    Foo is a subclass of object, this isn't strictly required if you're \n",
    "    doing Python 3 but is good practice if you want to write code that runs Python 2\n",
    "    \"\"\"\n",
    "    def __init__(self, bar):   # this is initialization function\n",
    "        self._bar = bar        # by convention variables that you expect to be private \n",
    "                               # start with an underscore\n",
    "        self.magic_number = 42\n",
    "    \n",
    "    def print(self):\n",
    "        print(\"The answer is \", self.magic_number)\n",
    "        \n",
    "    def __repr__(self):\n",
    "        \"\"\"\n",
    "        The repr or representation function returns a string that is used when printing\n",
    "        a class\n",
    "        \"\"\"\n",
    "        return \"<Foo: bar=\" + str(self._bar) + \">\""
   ]
  },
  {
   "cell_type": "code",
   "execution_count": 2,
   "metadata": {},
   "outputs": [
    {
     "name": "stdout",
     "output_type": "stream",
     "text": [
      "<Foo: bar=1>\n"
     ]
    }
   ],
   "source": [
    "a = Foo(1)\n",
    "print(a)"
   ]
  },
  {
   "cell_type": "code",
   "execution_count": 3,
   "metadata": {},
   "outputs": [
    {
     "name": "stdout",
     "output_type": "stream",
     "text": [
      "The answer is  42\n"
     ]
    }
   ],
   "source": [
    "a.print()"
   ]
  },
  {
   "cell_type": "markdown",
   "metadata": {},
   "source": [
    "## File Handling\n",
    "\n",
    "Files can be opened using the `open` function the first two arguments it takes is a filename and a mode strings.  For more information evaluate the box below."
   ]
  },
  {
   "cell_type": "code",
   "execution_count": 4,
   "metadata": {},
   "outputs": [],
   "source": [
    "open?"
   ]
  },
  {
   "cell_type": "markdown",
   "metadata": {},
   "source": [
    "This opens a file and dumps 3 lines to it.  This provides us something to read"
   ]
  },
  {
   "cell_type": "code",
   "execution_count": 5,
   "metadata": {},
   "outputs": [],
   "source": [
    "fout = open(\"tmpfile\", \"wt\")\n",
    "fout.write(\"First line\\n\")\n",
    "fout.write(\"Second line\\n\")\n",
    "fout.write(\"Third line\")\n",
    "fout.close()"
   ]
  },
  {
   "cell_type": "code",
   "execution_count": 6,
   "metadata": {},
   "outputs": [
    {
     "name": "stdout",
     "output_type": "stream",
     "text": [
      "First line\n",
      "Second line\n",
      "Third line\n"
     ]
    }
   ],
   "source": [
    "with open(\"tmpfile\", \"rt\") as fin:  # We can use a with block to close the file when control leaves the block\n",
    "    for line in fin:                # If we iterate over a file and get back lines for each loop\n",
    "        print(line.strip())"
   ]
  },
  {
   "cell_type": "code",
   "execution_count": 7,
   "metadata": {},
   "outputs": [
    {
     "name": "stdout",
     "output_type": "stream",
     "text": [
      "Fir\n"
     ]
    }
   ],
   "source": [
    "with open(\"tmpfile\", \"rt\") as fin:\n",
    "    print(fin.read(3))  # print the first 3 characters of the file"
   ]
  },
  {
   "cell_type": "code",
   "execution_count": 8,
   "metadata": {},
   "outputs": [],
   "source": [
    "# This cell just cleans up the file so I am not leaving any detritus on your HDs\n",
    "import os\n",
    "os.unlink(\"tmpfile\")"
   ]
  }
 ],
 "metadata": {
  "kernelspec": {
   "display_name": "Python 3",
   "language": "python",
   "name": "python3"
  },
  "language_info": {
   "codemirror_mode": {
    "name": "ipython",
    "version": 3
   },
   "file_extension": ".py",
   "mimetype": "text/x-python",
   "name": "python",
   "nbconvert_exporter": "python",
   "pygments_lexer": "ipython3",
   "version": "3.7.3"
  }
 },
 "nbformat": 4,
 "nbformat_minor": 2
}
