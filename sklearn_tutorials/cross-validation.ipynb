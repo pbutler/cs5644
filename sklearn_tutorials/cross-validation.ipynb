{
 "cells": [
  {
   "cell_type": "markdown",
   "metadata": {},
   "source": [
    "# Cross Validation and model Selection\n",
    "\n",
    "## imports"
   ]
  },
  {
   "cell_type": "code",
   "execution_count": 15,
   "metadata": {},
   "outputs": [],
   "source": [
    "%matplotlib inline\n",
    "import numpy as np\n",
    "import matplotlib.pyplot as plt\n",
    "import pandas as pd \n",
    "\n",
    "import sklearn\n",
    "from sklearn import tree\n",
    "from sklearn import datasets\n",
    "from sklearn import model_selection\n",
    "from sklearn import metrics"
   ]
  },
  {
   "cell_type": "markdown",
   "metadata": {},
   "source": [
    "## Load Data"
   ]
  },
  {
   "cell_type": "code",
   "execution_count": 16,
   "metadata": {},
   "outputs": [
    {
     "data": {
      "text/html": [
       "<div>\n",
       "<style scoped>\n",
       "    .dataframe tbody tr th:only-of-type {\n",
       "        vertical-align: middle;\n",
       "    }\n",
       "\n",
       "    .dataframe tbody tr th {\n",
       "        vertical-align: top;\n",
       "    }\n",
       "\n",
       "    .dataframe thead th {\n",
       "        text-align: right;\n",
       "    }\n",
       "</style>\n",
       "<table border=\"1\" class=\"dataframe\">\n",
       "  <thead>\n",
       "    <tr style=\"text-align: right;\">\n",
       "      <th></th>\n",
       "      <th>sepal_length</th>\n",
       "      <th>sepal_width</th>\n",
       "      <th>petal_length</th>\n",
       "      <th>petal_width</th>\n",
       "      <th>target</th>\n",
       "    </tr>\n",
       "  </thead>\n",
       "  <tbody>\n",
       "    <tr>\n",
       "      <td>0</td>\n",
       "      <td>5.1</td>\n",
       "      <td>3.5</td>\n",
       "      <td>1.4</td>\n",
       "      <td>0.2</td>\n",
       "      <td>setosa</td>\n",
       "    </tr>\n",
       "    <tr>\n",
       "      <td>1</td>\n",
       "      <td>4.9</td>\n",
       "      <td>3.0</td>\n",
       "      <td>1.4</td>\n",
       "      <td>0.2</td>\n",
       "      <td>setosa</td>\n",
       "    </tr>\n",
       "    <tr>\n",
       "      <td>2</td>\n",
       "      <td>4.7</td>\n",
       "      <td>3.2</td>\n",
       "      <td>1.3</td>\n",
       "      <td>0.2</td>\n",
       "      <td>setosa</td>\n",
       "    </tr>\n",
       "    <tr>\n",
       "      <td>3</td>\n",
       "      <td>4.6</td>\n",
       "      <td>3.1</td>\n",
       "      <td>1.5</td>\n",
       "      <td>0.2</td>\n",
       "      <td>setosa</td>\n",
       "    </tr>\n",
       "    <tr>\n",
       "      <td>4</td>\n",
       "      <td>5.0</td>\n",
       "      <td>3.6</td>\n",
       "      <td>1.4</td>\n",
       "      <td>0.2</td>\n",
       "      <td>setosa</td>\n",
       "    </tr>\n",
       "  </tbody>\n",
       "</table>\n",
       "</div>"
      ],
      "text/plain": [
       "   sepal_length  sepal_width  petal_length  petal_width  target\n",
       "0           5.1          3.5           1.4          0.2  setosa\n",
       "1           4.9          3.0           1.4          0.2  setosa\n",
       "2           4.7          3.2           1.3          0.2  setosa\n",
       "3           4.6          3.1           1.5          0.2  setosa\n",
       "4           5.0          3.6           1.4          0.2  setosa"
      ]
     },
     "execution_count": 16,
     "metadata": {},
     "output_type": "execute_result"
    }
   ],
   "source": [
    "iris = datasets.load_iris()\n",
    "tmp = {name: iris.data[:, i] for i, name in enumerate(iris.feature_names)}  # dictionary comprehension\n",
    "tmp[\"target\"] = [iris.target_names[i] for i in iris.target]\n",
    "iris_df = pd.DataFrame(tmp)\n",
    "iris_df.columns = [\"sepal_length\", \"sepal_width\", \"petal_length\", \"petal_width\", \"target\"]\n",
    "iris_df.head()"
   ]
  },
  {
   "cell_type": "code",
   "execution_count": 49,
   "metadata": {},
   "outputs": [],
   "source": [
    "X = iris_df.drop([\"target\"], axis=1)\n",
    "y = iris_df[\"target\"]\n",
    "clf = tree.DecisionTreeClassifier()"
   ]
  },
  {
   "cell_type": "code",
   "execution_count": 54,
   "metadata": {},
   "outputs": [
    {
     "name": "stdout",
     "output_type": "stream",
     "text": [
      "(100, 4) (50, 4)\n"
     ]
    }
   ],
   "source": [
    "(X_train, X_test, y_train, y_test) = model_selection.train_test_split(X, y, test_size=1/3)\n",
    "print(X_train.shape, X_test.shape)"
   ]
  },
  {
   "cell_type": "code",
   "execution_count": 55,
   "metadata": {},
   "outputs": [],
   "source": [
    "#train \n",
    "clf.fit(X_train, y_train)\n",
    "#predict\n",
    "y_pred = clf.predict(X_test)"
   ]
  },
  {
   "cell_type": "code",
   "execution_count": 56,
   "metadata": {},
   "outputs": [
    {
     "name": "stdout",
     "output_type": "stream",
     "text": [
      "precision=0.9408552631578948\n",
      "recall=   0.94\n",
      "f1=       0.9399017199017199\n"
     ]
    }
   ],
   "source": [
    "# score\n",
    "print(\"precision={}\".format(metrics.precision_score(y_test, y_pred, average=\"weighted\")))\n",
    "print(\"recall=   {}\".format(metrics.recall_score(y_test, y_pred, average=\"weighted\")))\n",
    "print(\"f1=       {}\".format(metrics.f1_score(y_test, y_pred, average=\"weighted\")))\n"
   ]
  },
  {
   "cell_type": "markdown",
   "metadata": {},
   "source": [
    "## Cross Validation"
   ]
  },
  {
   "cell_type": "code",
   "execution_count": 38,
   "metadata": {},
   "outputs": [
    {
     "name": "stdout",
     "output_type": "stream",
     "text": [
      "TRAIN: [0 2 3 4 5] TEST: [ 1  6 11 12 19]\n",
      "precision=0.9466666666666667\n",
      "recall=   0.9333333333333333\n",
      "f1=       0.934006734006734\n",
      "\n",
      "TRAIN: [0 1 3 4 6] TEST: [ 2  5  7 14 17]\n",
      "precision=0.9454545454545454\n",
      "recall=   0.9333333333333333\n",
      "f1=       0.9333333333333333\n",
      "\n",
      "TRAIN: [0 1 2 4 5] TEST: [ 3 27 28 45 47]\n",
      "precision=0.9333333333333333\n",
      "recall=   0.9333333333333333\n",
      "f1=       0.9333333333333333\n",
      "\n",
      "TRAIN: [0 1 2 3 5] TEST: [ 4  9 21 22 25]\n",
      "precision=1.0\n",
      "recall=   1.0\n",
      "f1=       1.0\n",
      "\n",
      "TRAIN: [1 2 3 4 5] TEST: [ 0  8 10 13 15]\n",
      "precision=0.9696969696969696\n",
      "recall=   0.9666666666666667\n",
      "f1=       0.9656084656084656\n",
      "\n"
     ]
    }
   ],
   "source": [
    "kf = model_selection.KFold(n_splits=5, shuffle=True)\n",
    "for train_index, test_index in kf.split(iris_df):\n",
    "    print(\"TRAIN:\", train_index[:5], \"TEST:\", test_index[:5])\n",
    "    X_train, X_test = X.iloc[train_index], X.iloc[test_index]\n",
    "    y_train, y_test = y.iloc[train_index], y.iloc[test_index]\n",
    "    clf.fit(X_train, y_train)\n",
    "    y_pred = clf.predict(X_test)\n",
    "    print(\"precision={}\".format(metrics.precision_score(y_test, y_pred, average=\"weighted\")))\n",
    "    print(\"recall=   {}\".format(metrics.recall_score(y_test, y_pred, average=\"weighted\")))\n",
    "    print(\"f1=       {}\".format(metrics.f1_score(y_test, y_pred, average=\"weighted\")))\n",
    "    \n",
    "    print()\n",
    "    "
   ]
  },
  {
   "cell_type": "markdown",
   "metadata": {},
   "source": [
    "[Scoring Parameter](https://scikit-learn.org/stable/modules/model_evaluation.html#scoring-parameter)"
   ]
  },
  {
   "cell_type": "code",
   "execution_count": 62,
   "metadata": {},
   "outputs": [
    {
     "data": {
      "text/plain": [
       "{'fit_time': array([0.00285697, 0.0018208 , 0.00186205, 0.00211024, 0.00166392]),\n",
       " 'score_time': array([0.00538611, 0.00458908, 0.00443101, 0.00433278, 0.00432014]),\n",
       " 'test_precision_weighted': array([0.96969697, 0.96969697, 0.9023569 , 0.93333333, 1.        ]),\n",
       " 'test_recall_weighted': array([0.96666667, 0.96666667, 0.9       , 0.93333333, 1.        ]),\n",
       " 'test_f1_weighted': array([0.96658312, 0.96658312, 0.89974937, 0.93333333, 1.        ])}"
      ]
     },
     "execution_count": 62,
     "metadata": {},
     "output_type": "execute_result"
    }
   ],
   "source": [
    "scores = model_selection.cross_validate(clf, X, y, cv=5, \n",
    "                                        scoring=[\"precision_weighted\", \"recall_weighted\", \"f1_weighted\"])\n",
    "scores"
   ]
  },
  {
   "cell_type": "code",
   "execution_count": 63,
   "metadata": {},
   "outputs": [
    {
     "data": {
      "text/plain": [
       "0.9550168350168351"
      ]
     },
     "execution_count": 63,
     "metadata": {},
     "output_type": "execute_result"
    }
   ],
   "source": [
    "np.mean(scores[\"test_precision_weighted\"])"
   ]
  }
 ],
 "metadata": {
  "kernelspec": {
   "display_name": "Python 3",
   "language": "python",
   "name": "python3"
  },
  "language_info": {
   "codemirror_mode": {
    "name": "ipython",
    "version": 3
   },
   "file_extension": ".py",
   "mimetype": "text/x-python",
   "name": "python",
   "nbconvert_exporter": "python",
   "pygments_lexer": "ipython3",
   "version": "3.7.4"
  }
 },
 "nbformat": 4,
 "nbformat_minor": 2
}
